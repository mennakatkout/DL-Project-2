{
 "cells": [
  {
   "cell_type": "markdown",
   "metadata": {
    "collapsed": true,
    "deletable": true,
    "editable": true
   },
   "source": [
    "# Image Classification\n",
    "In this project, you'll classify images from the [CIFAR-10 dataset](https://www.cs.toronto.edu/~kriz/cifar.html).  The dataset consists of airplanes, dogs, cats, and other objects. You'll preprocess the images, then train a convolutional neural network on all the samples. The images need to be normalized and the labels need to be one-hot encoded.  You'll get to apply what you learned and build a convolutional, max pooling, dropout, and fully connected layers.  At the end, you'll get to see your neural network's predictions on the sample images.\n",
    "## Get the Data\n",
    "Run the following cell to download the [CIFAR-10 dataset for python](https://www.cs.toronto.edu/~kriz/cifar-10-python.tar.gz)."
   ]
  },
  {
   "cell_type": "code",
   "execution_count": 1,
   "metadata": {
    "collapsed": false,
    "deletable": true,
    "editable": true,
    "scrolled": true
   },
   "outputs": [
    {
     "name": "stdout",
     "output_type": "stream",
     "text": [
      "All files found!\n"
     ]
    }
   ],
   "source": [
    "\"\"\"\n",
    "DON'T MODIFY ANYTHING IN THIS CELL THAT IS BELOW THIS LINE\n",
    "\"\"\"\n",
    "from urllib.request import urlretrieve\n",
    "from os.path import isfile, isdir\n",
    "from tqdm import tqdm\n",
    "import problem_unittests as tests\n",
    "import tarfile\n",
    "\n",
    "cifar10_dataset_folder_path = 'cifar-10-batches-py'\n",
    "\n",
    "# Use Floyd's cifar-10 dataset if present\n",
    "floyd_cifar10_location = '/input/cifar-10/python.tar.gz'\n",
    "if isfile(floyd_cifar10_location):\n",
    "    tar_gz_path = floyd_cifar10_location\n",
    "else:\n",
    "    tar_gz_path = 'cifar-10-python.tar.gz'\n",
    "\n",
    "class DLProgress(tqdm):\n",
    "    last_block = 0\n",
    "\n",
    "    def hook(self, block_num=1, block_size=1, total_size=None):\n",
    "        self.total = total_size\n",
    "        self.update((block_num - self.last_block) * block_size)\n",
    "        self.last_block = block_num\n",
    "\n",
    "if not isfile(tar_gz_path):\n",
    "    with DLProgress(unit='B', unit_scale=True, miniters=1, desc='CIFAR-10 Dataset') as pbar:\n",
    "        urlretrieve(\n",
    "            'https://www.cs.toronto.edu/~kriz/cifar-10-python.tar.gz',\n",
    "            tar_gz_path,\n",
    "            pbar.hook)\n",
    "\n",
    "if not isdir(cifar10_dataset_folder_path):\n",
    "    with tarfile.open(tar_gz_path) as tar:\n",
    "        tar.extractall()\n",
    "        tar.close()\n",
    "\n",
    "\n",
    "tests.test_folder_path(cifar10_dataset_folder_path)"
   ]
  },
  {
   "cell_type": "markdown",
   "metadata": {
    "deletable": true,
    "editable": true
   },
   "source": [
    "## Explore the Data\n",
    "The dataset is broken into batches to prevent your machine from running out of memory.  The CIFAR-10 dataset consists of 5 batches, named `data_batch_1`, `data_batch_2`, etc.. Each batch contains the labels and images that are one of the following:\n",
    "* airplane\n",
    "* automobile\n",
    "* bird\n",
    "* cat\n",
    "* deer\n",
    "* dog\n",
    "* frog\n",
    "* horse\n",
    "* ship\n",
    "* truck\n",
    "\n",
    "Understanding a dataset is part of making predictions on the data.  Play around with the code cell below by changing the `batch_id` and `sample_id`. The `batch_id` is the id for a batch (1-5). The `sample_id` is the id for a image and label pair in the batch.\n",
    "\n",
    "Ask yourself \"What are all possible labels?\", \"What is the range of values for the image data?\", \"Are the labels in order or random?\".  Answers to questions like these will help you preprocess the data and end up with better predictions."
   ]
  },
  {
   "cell_type": "code",
   "execution_count": 2,
   "metadata": {
    "collapsed": false,
    "deletable": true,
    "editable": true,
    "scrolled": true
   },
   "outputs": [
    {
     "name": "stdout",
     "output_type": "stream",
     "text": [
      "\n",
      "Stats of batch 1:\n",
      "Samples: 10000\n",
      "Label Counts: {0: 1005, 1: 974, 2: 1032, 3: 1016, 4: 999, 5: 937, 6: 1030, 7: 1001, 8: 1025, 9: 981}\n",
      "First 20 Labels: [6, 9, 9, 4, 1, 1, 2, 7, 8, 3, 4, 7, 7, 2, 9, 9, 9, 3, 2, 6]\n",
      "\n",
      "Example of Image 5:\n",
      "Image - Min Value: 0 Max Value: 252\n",
      "Image - Shape: (32, 32, 3)\n",
      "Label - Label Id: 1 Name: automobile\n"
     ]
    },
    {
     "data": {
      "image/png": "[encoded data removed]",
      "text/plain": [
       "<matplotlib.figure.Figure at 0x7f1f878c84e0>"
      ]
     },
     "metadata": {
      "image/png": {
       "height": 250,
       "width": 253
      }
     },
     "output_type": "display_data"
    }
   ],
   "source": [
    "%matplotlib inline\n",
    "%config InlineBackend.figure_format = 'retina'\n",
    "\n",
    "import helper\n",
    "import numpy as np\n",
    "\n",
    "# Explore the dataset\n",
    "batch_id = 1\n",
    "sample_id = 5\n",
    "helper.display_stats(cifar10_dataset_folder_path, batch_id, sample_id)"
   ]
  },
  {
   "cell_type": "markdown",
   "metadata": {
    "deletable": true,
    "editable": true
   },
   "source": [
    "## Implement Preprocess Functions\n",
    "### Normalize\n",
    "In the cell below, implement the `normalize` function to take in image data, `x`, and return it as a normalized Numpy array. The values should be in the range of 0 to 1, inclusive.  The return object should be the same shape as `x`."
   ]
  },
  {
   "cell_type": "code",
   "execution_count": 3,
   "metadata": {
    "collapsed": false,
    "deletable": true,
    "editable": true,
    "scrolled": true
   },
   "outputs": [
    {
     "name": "stdout",
     "output_type": "stream",
     "text": [
      "Tests Passed\n"
     ]
    }
   ],
   "source": [
    "def normalize(x):\n",
    "    \"\"\"\n",
    "    Normalize a list of sample image data in the range of 0 to 1\n",
    "    : x: List of image data.  The image shape is (32, 32, 3)\n",
    "    : return: Numpy array of normalize data\n",
    "    \"\"\"\n",
    "    # TODO: Implement Function\n",
    "    return (255-x)/255\n",
    "\n",
    "\n",
    "\"\"\"\n",
    "DON'T MODIFY ANYTHING IN THIS CELL THAT IS BELOW THIS LINE\n",
    "\"\"\"\n",
    "tests.test_normalize(normalize)"
   ]
  },
  {
   "cell_type": "markdown",
   "metadata": {
    "deletable": true,
    "editable": true
   },
   "source": [
    "### One-hot encode\n",
    "Just like the previous code cell, you'll be implementing a function for preprocessing.  This time, you'll implement the `one_hot_encode` function. The input, `x`, are a list of labels.  Implement the function to return the list of labels as One-Hot encoded Numpy array.  The possible values for labels are 0 to 9. The one-hot encoding function should return the same encoding for each value between each call to `one_hot_encode`.  Make sure to save the map of encodings outside the function.\n",
    "\n",
    "Hint: Don't reinvent the wheel."
   ]
  },
  {
   "cell_type": "code",
   "execution_count": 4,
   "metadata": {
    "collapsed": false,
    "deletable": true,
    "editable": true,
    "scrolled": true
   },
   "outputs": [
    {
     "name": "stdout",
     "output_type": "stream",
     "text": [
      "Tests Passed\n"
     ]
    }
   ],
   "source": [
    "def one_hot_encode(x):\n",
    "    \"\"\"\n",
    "    One hot encode a list of sample labels. Return a one-hot encoded vector for each label.\n",
    "    : x: List of sample Labels\n",
    "    : return: Numpy array of one-hot encoded labels\n",
    "    \"\"\"\n",
    "    # TODO: Implement Function\n",
    "    labels = np.array(x).reshape(-1)\n",
    "    one_hot_labels = np.eye(10)[labels]\n",
    "    return one_hot_labels\n",
    "\n",
    "\n",
    "\"\"\"\n",
    "DON'T MODIFY ANYTHING IN THIS CELL THAT IS BELOW THIS LINE\n",
    "\"\"\"\n",
    "tests.test_one_hot_encode(one_hot_encode)"
   ]
  },
  {
   "cell_type": "markdown",
   "metadata": {
    "deletable": true,
    "editable": true
   },
   "source": [
    "### Randomize Data\n",
    "As you saw from exploring the data above, the order of the samples are randomized.  It doesn't hurt to randomize it again, but you don't need to for this dataset."
   ]
  },
  {
   "cell_type": "markdown",
   "metadata": {
    "deletable": true,
    "editable": true
   },
   "source": [
    "## Preprocess all the data and save it\n",
    "Running the code cell below will preprocess all the CIFAR-10 data and save it to file. The code below also uses 10% of the training data for validation."
   ]
  },
  {
   "cell_type": "code",
   "execution_count": 5,
   "metadata": {
    "collapsed": true,
    "deletable": true,
    "editable": true,
    "scrolled": true
   },
   "outputs": [],
   "source": [
    "\"\"\"\n",
    "DON'T MODIFY ANYTHING IN THIS CELL\n",
    "\"\"\"\n",
    "# Preprocess Training, Validation, and Testing Data\n",
    "helper.preprocess_and_save_data(cifar10_dataset_folder_path, normalize, one_hot_encode)"
   ]
  },
  {
   "cell_type": "markdown",
   "metadata": {
    "deletable": true,
    "editable": true
   },
   "source": [
    "# Check Point\n",
    "This is your first checkpoint.  If you ever decide to come back to this notebook or have to restart the notebook, you can start from here.  The preprocessed data has been saved to disk."
   ]
  },
  {
   "cell_type": "code",
   "execution_count": 6,
   "metadata": {
    "collapsed": false,
    "deletable": true,
    "editable": true,
    "scrolled": true
   },
   "outputs": [],
   "source": [
    "\"\"\"\n",
    "DON'T MODIFY ANYTHING IN THIS CELL\n",
    "\"\"\"\n",
    "import pickle\n",
    "import problem_unittests as tests\n",
    "import helper\n",
    "\n",
    "# Load the Preprocessed Validation data\n",
    "valid_features, valid_labels = pickle.load(open('preprocess_validation.p', mode='rb'))"
   ]
  },
  {
   "cell_type": "markdown",
   "metadata": {
    "deletable": true,
    "editable": true
   },
   "source": [
    "## Build the network\n",
    "For the neural network, you'll build each layer into a function.  Most of the code you've seen has been outside of functions. To test your code more thoroughly, we require that you put each layer in a function.  This allows us to give you better feedback and test for simple mistakes using our unittests before you submit your project.\n",
    "\n",
    ">**Note:** If you're finding it hard to dedicate enough time for this course each week, we've provided a small shortcut to this part of the project. In the next couple of problems, you'll have the option to use classes from the [TensorFlow Layers](https://www.tensorflow.org/api_docs/python/tf/layers) or [TensorFlow Layers (contrib)](https://www.tensorflow.org/api_guides/python/contrib.layers) packages to build each layer, except the layers you build in the \"Convolutional and Max Pooling Layer\" section.  TF Layers is similar to Keras's and TFLearn's abstraction to layers, so it's easy to pickup.\n",
    "\n",
    ">However, if you would like to get the most out of this course, try to solve all the problems _without_ using anything from the TF Layers packages. You **can** still use classes from other packages that happen to have the same name as ones you find in TF Layers! For example, instead of using the TF Layers version of the `conv2d` class, [tf.layers.conv2d](https://www.tensorflow.org/api_docs/python/tf/layers/conv2d), you would want to use the TF Neural Network version of `conv2d`, [tf.nn.conv2d](https://www.tensorflow.org/api_docs/python/tf/nn/conv2d). \n",
    "\n",
    "Let's begin!\n",
    "\n",
    "### Input\n",
    "The neural network needs to read the image data, one-hot encoded labels, and dropout keep probability. Implement the following functions\n",
    "* Implement `neural_net_image_input`\n",
    " * Return a [TF Placeholder](https://www.tensorflow.org/api_docs/python/tf/placeholder)\n",
    " * Set the shape using `image_shape` with batch size set to `None`.\n",
    " * Name the TensorFlow placeholder \"x\" using the TensorFlow `name` parameter in the [TF Placeholder](https://www.tensorflow.org/api_docs/python/tf/placeholder).\n",
    "* Implement `neural_net_label_input`\n",
    " * Return a [TF Placeholder](https://www.tensorflow.org/api_docs/python/tf/placeholder)\n",
    " * Set the shape using `n_classes` with batch size set to `None`.\n",
    " * Name the TensorFlow placeholder \"y\" using the TensorFlow `name` parameter in the [TF Placeholder](https://www.tensorflow.org/api_docs/python/tf/placeholder).\n",
    "* Implement `neural_net_keep_prob_input`\n",
    " * Return a [TF Placeholder](https://www.tensorflow.org/api_docs/python/tf/placeholder) for dropout keep probability.\n",
    " * Name the TensorFlow placeholder \"keep_prob\" using the TensorFlow `name` parameter in the [TF Placeholder](https://www.tensorflow.org/api_docs/python/tf/placeholder).\n",
    "\n",
    "These names will be used at the end of the project to load your saved model.\n",
    "\n",
    "Note: `None` for shapes in TensorFlow allow for a dynamic size."
   ]
  },
  {
   "cell_type": "code",
   "execution_count": 7,
   "metadata": {
    "collapsed": false,
    "deletable": true,
    "editable": true,
    "scrolled": true
   },
   "outputs": [
    {
     "name": "stdout",
     "output_type": "stream",
     "text": [
      "Image Input Tests Passed.\n",
      "Label Input Tests Passed.\n",
      "Keep Prob Tests Passed.\n"
     ]
    }
   ],
   "source": [
    "import tensorflow as tf\n",
    "\n",
    "def neural_net_image_input(image_shape):\n",
    "    \"\"\"\n",
    "    Return a Tensor for a batch of image input\n",
    "    : image_shape: Shape of the images\n",
    "    : return: Tensor for image input.\n",
    "    \"\"\"\n",
    "    # TODO: Implement Function\n",
    "    return tf.placeholder(tf.float32, [None, image_shape[0],image_shape[1],image_shape[2]],name='x')\n",
    "\n",
    "\n",
    "def neural_net_label_input(n_classes):\n",
    "    \"\"\"\n",
    "    Return a Tensor for a batch of label input\n",
    "    : n_classes: Number of classes\n",
    "    : return: Tensor for label input.\n",
    "    \"\"\"\n",
    "    # TODO: Implement Function\n",
    "    return tf.placeholder(tf.float32, [None, n_classes],name='y')\n",
    "\n",
    "\n",
    "def neural_net_keep_prob_input():\n",
    "    \"\"\"\n",
    "    Return a Tensor for keep probability\n",
    "    : return: Tensor for keep probability.\n",
    "    \"\"\"\n",
    "    # TODO: Implement Function\n",
    "    return  tf.placeholder(tf.float32, name='keep_prob')\n",
    "\n",
    "\n",
    "\"\"\"\n",
    "DON'T MODIFY ANYTHING IN THIS CELL THAT IS BELOW THIS LINE\n",
    "\"\"\"\n",
    "tf.reset_default_graph()\n",
    "tests.test_nn_image_inputs(neural_net_image_input)\n",
    "tests.test_nn_label_inputs(neural_net_label_input)\n",
    "tests.test_nn_keep_prob_inputs(neural_net_keep_prob_input)"
   ]
  },
  {
   "cell_type": "markdown",
   "metadata": {
    "deletable": true,
    "editable": true
   },
   "source": [
    "### Convolution and Max Pooling Layer\n",
    "Convolution layers have a lot of success with images. For this code cell, you should implement the function `conv2d_maxpool` to apply convolution then max pooling:\n",
    "* Create the weight and bias using `conv_ksize`, `conv_num_outputs` and the shape of `x_tensor`.\n",
    "* Apply a convolution to `x_tensor` using weight and `conv_strides`.\n",
    " * We recommend you use same padding, but you're welcome to use any padding.\n",
    "* Add bias\n",
    "* Add a nonlinear activation to the convolution.\n",
    "* Apply Max Pooling using `pool_ksize` and `pool_strides`.\n",
    " * We recommend you use same padding, but you're welcome to use any padding.\n",
    "\n",
    "**Note:** You **can't** use [TensorFlow Layers](https://www.tensorflow.org/api_docs/python/tf/layers) or [TensorFlow Layers (contrib)](https://www.tensorflow.org/api_guides/python/contrib.layers) for **this** layer, but you can still use TensorFlow's [Neural Network](https://www.tensorflow.org/api_docs/python/tf/nn) package. You may still use the shortcut option for all the **other** layers."
   ]
  },
  {
   "cell_type": "code",
   "execution_count": 8,
   "metadata": {
    "collapsed": false,
    "deletable": true,
    "editable": true,
    "scrolled": true
   },
   "outputs": [
    {
     "name": "stdout",
     "output_type": "stream",
     "text": [
      "Tests Passed\n"
     ]
    }
   ],
   "source": [
    "def conv2d_maxpool(x_tensor, conv_num_outputs, conv_ksize, conv_strides, pool_ksize, pool_strides):\n",
    "    \"\"\"\n",
    "    Apply convolution then max pooling to x_tensor\n",
    "    :param x_tensor: TensorFlow Tensor\n",
    "    :param conv_num_outputs: Number of outputs for the convolutional layer\n",
    "    :param conv_ksize: kernal size 2-D Tuple for the convolutional layer\n",
    "    :param conv_strides: Stride 2-D Tuple for convolution\n",
    "    :param pool_ksize: kernal size 2-D Tuple for pool\n",
    "    :param pool_strides: Stride 2-D Tuple for pool\n",
    "    : return: A tensor that represents convolution and max pooling of x_tensor\n",
    "    \"\"\"\n",
    "    # TODO: Implement Function\n",
    "    input_channels = x_tensor.get_shape().as_list()[3]\n",
    "    weight = tf.Variable(tf.truncated_normal([conv_ksize[0],conv_ksize[1], input_channels, conv_num_outputs],stddev=0.1))\n",
    "    bias = tf.Variable(tf.truncated_normal([conv_num_outputs],stddev=0.1))\n",
    "    #bias = tf.Variable(tf.zeros(conv_num_outputs))\n",
    "    \n",
    "    conv_net = tf.nn.conv2d(x_tensor,weight,[1,conv_strides[0],conv_strides[1],1], padding='SAME')\n",
    "    conv_net = tf.nn.bias_add(conv_net, bias)\n",
    "    conv_net = tf.nn.relu(conv_net)\n",
    "    \n",
    "    return tf.nn.max_pool(conv_net,[1,pool_ksize[0],pool_ksize[1],1], [1,pool_strides[0],pool_strides[1],1], padding='SAME') \n",
    "\n",
    "\n",
    "\"\"\"\n",
    "DON'T MODIFY ANYTHING IN THIS CELL THAT IS BELOW THIS LINE\n",
    "\"\"\"\n",
    "tests.test_con_pool(conv2d_maxpool)"
   ]
  },
  {
   "cell_type": "markdown",
   "metadata": {
    "deletable": true,
    "editable": true
   },
   "source": [
    "### Flatten Layer\n",
    "Implement the `flatten` function to change the dimension of `x_tensor` from a 4-D tensor to a 2-D tensor.  The output should be the shape (*Batch Size*, *Flattened Image Size*). Shortcut option: you can use classes from the [TensorFlow Layers](https://www.tensorflow.org/api_docs/python/tf/layers) or [TensorFlow Layers (contrib)](https://www.tensorflow.org/api_guides/python/contrib.layers) packages for this layer. For more of a challenge, only use other TensorFlow packages."
   ]
  },
  {
   "cell_type": "code",
   "execution_count": 9,
   "metadata": {
    "collapsed": false,
    "deletable": true,
    "editable": true,
    "scrolled": true
   },
   "outputs": [
    {
     "name": "stdout",
     "output_type": "stream",
     "text": [
      "Tests Passed\n"
     ]
    }
   ],
   "source": [
    "def flatten(x_tensor):\n",
    "    \"\"\"\n",
    "    Flatten x_tensor to (Batch Size, Flattened Image Size)\n",
    "    : x_tensor: A tensor of size (Batch Size, ...), where ... are the image dimensions.\n",
    "    : return: A tensor of size (Batch Size, Flattened Image Size).\n",
    "    \"\"\"\n",
    "    dim = np.prod(x_tensor.get_shape().as_list()[1:])\n",
    "    return tf.reshape(x_tensor, [-1, dim])\n",
    "\n",
    "\"\"\"\n",
    "DON'T MODIFY ANYTHING IN THIS CELL THAT IS BELOW THIS LINE\n",
    "\"\"\"\n",
    "tests.test_flatten(flatten)    "
   ]
  },
  {
   "cell_type": "markdown",
   "metadata": {
    "deletable": true,
    "editable": true
   },
   "source": [
    "### Fully-Connected Layer\n",
    "Implement the `fully_conn` function to apply a fully connected layer to `x_tensor` with the shape (*Batch Size*, *num_outputs*). Shortcut option: you can use classes from the [TensorFlow Layers](https://www.tensorflow.org/api_docs/python/tf/layers) or [TensorFlow Layers (contrib)](https://www.tensorflow.org/api_guides/python/contrib.layers) packages for this layer. For more of a challenge, only use other TensorFlow packages."
   ]
  },
  {
   "cell_type": "code",
   "execution_count": 10,
   "metadata": {
    "collapsed": false,
    "deletable": true,
    "editable": true,
    "scrolled": true
   },
   "outputs": [
    {
     "name": "stdout",
     "output_type": "stream",
     "text": [
      "Tests Passed\n"
     ]
    }
   ],
   "source": [
    "def fully_conn(x_tensor, num_outputs):\n",
    "    \"\"\"\n",
    "    Apply a fully connected layer to x_tensor using weight and bias\n",
    "    : x_tensor: A 2-D tensor where the first dimension is batch size.\n",
    "    : num_outputs: The number of output that the new tensor should be.\n",
    "    : return: A 2-D tensor where the second dimension is num_outputs.\n",
    "    \"\"\"\n",
    "    # TODO: Implement Function\n",
    "    weight = tf.Variable(tf.truncated_normal([x_tensor.get_shape().as_list()[1],num_outputs],stddev=0.1))\n",
    "    bias = tf.Variable(tf.truncated_normal([num_outputs],stddev=0.1))\n",
    "    #bias = tf.Variable(tf.zeros([num_outputs]))\n",
    "    output = tf.add(tf.matmul(x_tensor, weight), bias)\n",
    "    return tf.nn.relu(output)\n",
    "\n",
    "\n",
    "\"\"\"\n",
    "DON'T MODIFY ANYTHING IN THIS CELL THAT IS BELOW THIS LINE\n",
    "\"\"\"\n",
    "tests.test_fully_conn(fully_conn)"
   ]
  },
  {
   "cell_type": "markdown",
   "metadata": {
    "deletable": true,
    "editable": true
   },
   "source": [
    "### Output Layer\n",
    "Implement the `output` function to apply a fully connected layer to `x_tensor` with the shape (*Batch Size*, *num_outputs*). Shortcut option: you can use classes from the [TensorFlow Layers](https://www.tensorflow.org/api_docs/python/tf/layers) or [TensorFlow Layers (contrib)](https://www.tensorflow.org/api_guides/python/contrib.layers) packages for this layer. For more of a challenge, only use other TensorFlow packages.\n",
    "\n",
    "**Note:** Activation, softmax, or cross entropy should **not** be applied to this."
   ]
  },
  {
   "cell_type": "code",
   "execution_count": 11,
   "metadata": {
    "collapsed": false,
    "deletable": true,
    "editable": true,
    "scrolled": true
   },
   "outputs": [
    {
     "name": "stdout",
     "output_type": "stream",
     "text": [
      "Tests Passed\n"
     ]
    }
   ],
   "source": [
    "def output(x_tensor, num_outputs):\n",
    "    \"\"\"\n",
    "    Apply a output layer to x_tensor using weight and bias\n",
    "    : x_tensor: A 2-D tensor where the first dimension is batch size.\n",
    "    : num_outputs: The number of output that the new tensor should be.\n",
    "    : return: A 2-D tensor where the second dimension is num_outputs.\n",
    "    \"\"\"\n",
    "    # TODO: Implement Function\n",
    "    weight = tf.Variable(tf.truncated_normal([x_tensor.get_shape().as_list()[1],num_outputs],stddev=0.1))\n",
    "    bias = tf.Variable(tf.truncated_normal([num_outputs],stddev=0.1))\n",
    "    #bias = tf.Variable(tf.zeros([num_outputs]))\n",
    "    return tf.add(tf.matmul(x_tensor, weight), bias)\n",
    "\n",
    "\n",
    "\"\"\"\n",
    "DON'T MODIFY ANYTHING IN THIS CELL THAT IS BELOW THIS LINE\n",
    "\"\"\"\n",
    "tests.test_output(output)"
   ]
  },
  {
   "cell_type": "markdown",
   "metadata": {
    "deletable": true,
    "editable": true
   },
   "source": [
    "### Create Convolutional Model\n",
    "Implement the function `conv_net` to create a convolutional neural network model. The function takes in a batch of images, `x`, and outputs logits.  Use the layers you created above to create this model:\n",
    "\n",
    "* Apply 1, 2, or 3 Convolution and Max Pool layers\n",
    "* Apply a Flatten Layer\n",
    "* Apply 1, 2, or 3 Fully Connected Layers\n",
    "* Apply an Output Layer\n",
    "* Return the output\n",
    "* Apply [TensorFlow's Dropout](https://www.tensorflow.org/api_docs/python/tf/nn/dropout) to one or more layers in the model using `keep_prob`. "
   ]
  },
  {
   "cell_type": "code",
   "execution_count": 12,
   "metadata": {
    "collapsed": false,
    "deletable": true,
    "editable": true,
    "scrolled": true
   },
   "outputs": [
    {
     "name": "stdout",
     "output_type": "stream",
     "text": [
      "Neural Network Built!\n"
     ]
    }
   ],
   "source": [
    "def conv_net(x, keep_prob):\n",
    "    \"\"\"\n",
    "    Create a convolutional neural network model\n",
    "    : x: Placeholder tensor that holds image data.\n",
    "    : keep_prob: Placeholder tensor that hold dropout keep probability.\n",
    "    : return: Tensor that represents logits\n",
    "    \"\"\"\n",
    "    # TODO: Apply 1, 2, or 3 Convolution and Max Pool layers\n",
    "    #    Play around with different number of outputs, kernel size and stride\n",
    "    # Function Definition from Above:\n",
    "    conv_ksize = [3,3]\n",
    "    conv_strides = [2,2]\n",
    "    pool_ksize = [2,2]\n",
    "    pool_strides = [1,1]\n",
    "    \n",
    "    conv_layer_1 = conv2d_maxpool(x, 64, conv_ksize, conv_strides, pool_ksize, pool_strides)\n",
    "    conv_layer_1 = tf.nn.dropout(conv_layer_1,keep_prob)\n",
    "    \n",
    "    conv_layer_2 = conv2d_maxpool(conv_layer_1, 128, conv_ksize, conv_strides, pool_ksize, pool_strides)\n",
    "    conv_layer_2 = tf.nn.dropout(conv_layer_2,keep_prob)\n",
    "    \n",
    "\n",
    "    # TODO: Apply a Flatten Layer\n",
    "    # Function Definition from Above:\n",
    "    flatened_input = flatten(conv_layer_2)\n",
    "    \n",
    "    # TODO: Apply 1, 2, or 3 Fully Connected Layers\n",
    "    #    Play around with different number of outputs\n",
    "    # Function Definition from Above:\n",
    "    layer_1 = fully_conn(flatened_input, 150)\n",
    "    layer_1 = tf.nn.dropout(layer_1,keep_prob)\n",
    "    layer_2 = fully_conn(layer_1, 50)\n",
    "    layer_2 = tf.nn.dropout(layer_2,keep_prob)\n",
    "    \n",
    "    # TODO: Apply an Output Layer\n",
    "    #    Set this to the number of classes\n",
    "    # Function Definition from Above:\n",
    "    out_val = output(layer_1, 10)\n",
    "    \n",
    "    \n",
    "    # TODO: return output\n",
    "    return out_val\n",
    "\n",
    "\n",
    "\"\"\"\n",
    "DON'T MODIFY ANYTHING IN THIS CELL THAT IS BELOW THIS LINE\n",
    "\"\"\"\n",
    "\n",
    "##############################\n",
    "## Build the Neural Network ##\n",
    "##############################\n",
    "\n",
    "# Remove previous weights, bias, inputs, etc..\n",
    "tf.reset_default_graph()\n",
    "\n",
    "# Inputs\n",
    "x = neural_net_image_input((32, 32, 3))\n",
    "y = neural_net_label_input(10)\n",
    "keep_prob = neural_net_keep_prob_input()\n",
    "\n",
    "# Model\n",
    "logits = conv_net(x, keep_prob)\n",
    "\n",
    "# Name logits Tensor, so that is can be loaded from disk after training\n",
    "logits = tf.identity(logits, name='logits')\n",
    "\n",
    "# Loss and Optimizer\n",
    "cost = tf.reduce_mean(tf.nn.softmax_cross_entropy_with_logits(logits=logits, labels=y))\n",
    "optimizer = tf.train.AdamOptimizer().minimize(cost)\n",
    "\n",
    "# Accuracy\n",
    "correct_pred = tf.equal(tf.argmax(logits, 1), tf.argmax(y, 1))\n",
    "accuracy = tf.reduce_mean(tf.cast(correct_pred, tf.float32), name='accuracy')\n",
    "\n",
    "tests.test_conv_net(conv_net)"
   ]
  },
  {
   "cell_type": "markdown",
   "metadata": {
    "deletable": true,
    "editable": true
   },
   "source": [
    "## Train the Neural Network\n",
    "### Single Optimization\n",
    "Implement the function `train_neural_network` to do a single optimization.  The optimization should use `optimizer` to optimize in `session` with a `feed_dict` of the following:\n",
    "* `x` for image input\n",
    "* `y` for labels\n",
    "* `keep_prob` for keep probability for dropout\n",
    "\n",
    "This function will be called for each batch, so `tf.global_variables_initializer()` has already been called.\n",
    "\n",
    "Note: Nothing needs to be returned. This function is only optimizing the neural network."
   ]
  },
  {
   "cell_type": "code",
   "execution_count": 13,
   "metadata": {
    "collapsed": false,
    "deletable": true,
    "editable": true,
    "scrolled": true
   },
   "outputs": [
    {
     "name": "stdout",
     "output_type": "stream",
     "text": [
      "Tests Passed\n"
     ]
    }
   ],
   "source": [
    "def train_neural_network(session, optimizer, keep_probability, feature_batch, label_batch):\n",
    "    \"\"\"\n",
    "    Optimize the session on a batch of images and labels\n",
    "    : session: Current TensorFlow session\n",
    "    : optimizer: TensorFlow optimizer function\n",
    "    : keep_probability: keep probability\n",
    "    : feature_batch: Batch of Numpy image data\n",
    "    : label_batch: Batch of Numpy label data\n",
    "    \"\"\"\n",
    "    # TODO: Implement Function\n",
    "    session.run(optimizer, feed_dict={\n",
    "        x: feature_batch,\n",
    "        y: label_batch,\n",
    "        keep_prob: keep_probability})\n",
    "\n",
    "\n",
    "\n",
    "\"\"\"\n",
    "DON'T MODIFY ANYTHING IN THIS CELL THAT IS BELOW THIS LINE\n",
    "\"\"\"\n",
    "tests.test_train_nn(train_neural_network)"
   ]
  },
  {
   "cell_type": "markdown",
   "metadata": {
    "deletable": true,
    "editable": true
   },
   "source": [
    "### Show Stats\n",
    "Implement the function `print_stats` to print loss and validation accuracy.  Use the global variables `valid_features` and `valid_labels` to calculate validation accuracy.  Use a keep probability of `1.0` to calculate the loss and validation accuracy."
   ]
  },
  {
   "cell_type": "code",
   "execution_count": 14,
   "metadata": {
    "collapsed": false,
    "deletable": true,
    "editable": true,
    "scrolled": true
   },
   "outputs": [],
   "source": [
    "def print_stats(session, feature_batch, label_batch, cost, accuracy):\n",
    "    \"\"\"\n",
    "    Print information about loss and validation accuracy\n",
    "    : session: Current TensorFlow session\n",
    "    : feature_batch: Batch of Numpy image data\n",
    "    : label_batch: Batch of Numpy label data\n",
    "    : cost: TensorFlow cost function\n",
    "    : accuracy: TensorFlow accuracy function\n",
    "    \"\"\"\n",
    "    # TODO: Implement Function\n",
    "    loss = session.run(cost,feed_dict={\n",
    "            x:feature_batch,\n",
    "            y: label_batch,\n",
    "            keep_prob: 1\n",
    "    })\n",
    "    valid_acc = session.run(accuracy,feed_dict={\n",
    "            x: valid_features,\n",
    "            y: valid_labels,\n",
    "            keep_prob: 1\n",
    "    })\n",
    "    print('Loss: {:>10.4f} Validation Accuracy: {:.6f}'.format(\n",
    "            loss,\n",
    "            valid_acc))"
   ]
  },
  {
   "cell_type": "markdown",
   "metadata": {
    "deletable": true,
    "editable": true
   },
   "source": [
    "### Hyperparameters\n",
    "Tune the following parameters:\n",
    "* Set `epochs` to the number of iterations until the network stops learning or start overfitting\n",
    "* Set `batch_size` to the highest number that your machine has memory for.  Most people set them to common sizes of memory:\n",
    " * 64\n",
    " * 128\n",
    " * 256\n",
    " * ...\n",
    "* Set `keep_probability` to the probability of keeping a node using dropout"
   ]
  },
  {
   "cell_type": "code",
   "execution_count": 15,
   "metadata": {
    "collapsed": true,
    "deletable": true,
    "editable": true,
    "scrolled": true
   },
   "outputs": [],
   "source": [
    "# TODO: Tune Parameters\n",
    "epochs = 50\n",
    "batch_size = 128\n",
    "keep_probability = 0.5"
   ]
  },
  {
   "cell_type": "markdown",
   "metadata": {
    "deletable": true,
    "editable": true
   },
   "source": [
    "### Train on a Single CIFAR-10 Batch\n",
    "Instead of training the neural network on all the CIFAR-10 batches of data, let's use a single batch. This should save time while you iterate on the model to get a better accuracy.  Once the final validation accuracy is 50% or greater, run the model on all the data in the next section."
   ]
  },
  {
   "cell_type": "code",
   "execution_count": 16,
   "metadata": {
    "collapsed": false,
    "deletable": true,
    "editable": true,
    "scrolled": true
   },
   "outputs": [
    {
     "name": "stdout",
     "output_type": "stream",
     "text": [
      "Checking the Training on a Single Batch...\n",
      "Epoch  1, CIFAR-10 Batch 1:  Loss:     2.3076 Validation Accuracy: 0.100400\n",
      "Epoch  2, CIFAR-10 Batch 1:  Loss:     2.3055 Validation Accuracy: 0.132600\n",
      "Epoch  3, CIFAR-10 Batch 1:  Loss:     2.2797 Validation Accuracy: 0.175600\n",
      "Epoch  4, CIFAR-10 Batch 1:  Loss:     2.2071 Validation Accuracy: 0.193200\n",
      "Epoch  5, CIFAR-10 Batch 1:  Loss:     2.1983 Validation Accuracy: 0.225400\n",
      "Epoch  6, CIFAR-10 Batch 1:  Loss:     2.1032 Validation Accuracy: 0.263400\n",
      "Epoch  7, CIFAR-10 Batch 1:  Loss:     2.0709 Validation Accuracy: 0.317000\n",
      "Epoch  8, CIFAR-10 Batch 1:  Loss:     1.9986 Validation Accuracy: 0.344800\n",
      "Epoch  9, CIFAR-10 Batch 1:  Loss:     1.9787 Validation Accuracy: 0.349200\n",
      "Epoch 10, CIFAR-10 Batch 1:  Loss:     1.9162 Validation Accuracy: 0.389200\n",
      "Epoch 11, CIFAR-10 Batch 1:  Loss:     1.8713 Validation Accuracy: 0.436400\n",
      "Epoch 12, CIFAR-10 Batch 1:  Loss:     1.7665 Validation Accuracy: 0.444200\n",
      "Epoch 13, CIFAR-10 Batch 1:  Loss:     1.6996 Validation Accuracy: 0.447400\n",
      "Epoch 14, CIFAR-10 Batch 1:  Loss:     1.6387 Validation Accuracy: 0.464200\n",
      "Epoch 15, CIFAR-10 Batch 1:  Loss:     1.5654 Validation Accuracy: 0.480600\n",
      "Epoch 16, CIFAR-10 Batch 1:  Loss:     1.5366 Validation Accuracy: 0.489200\n",
      "Epoch 17, CIFAR-10 Batch 1:  Loss:     1.4669 Validation Accuracy: 0.501600\n",
      "Epoch 18, CIFAR-10 Batch 1:  Loss:     1.4419 Validation Accuracy: 0.500400\n",
      "Epoch 19, CIFAR-10 Batch 1:  Loss:     1.4022 Validation Accuracy: 0.499000\n",
      "Epoch 20, CIFAR-10 Batch 1:  Loss:     1.3238 Validation Accuracy: 0.527200\n",
      "Epoch 21, CIFAR-10 Batch 1:  Loss:     1.3145 Validation Accuracy: 0.515600\n",
      "Epoch 22, CIFAR-10 Batch 1:  Loss:     1.2622 Validation Accuracy: 0.523000\n",
      "Epoch 23, CIFAR-10 Batch 1:  Loss:     1.2648 Validation Accuracy: 0.521800\n",
      "Epoch 24, CIFAR-10 Batch 1:  Loss:     1.1608 Validation Accuracy: 0.535400\n",
      "Epoch 25, CIFAR-10 Batch 1:  Loss:     1.1527 Validation Accuracy: 0.535600\n",
      "Epoch 26, CIFAR-10 Batch 1:  Loss:     1.1124 Validation Accuracy: 0.538800\n",
      "Epoch 27, CIFAR-10 Batch 1:  Loss:     1.0997 Validation Accuracy: 0.542800\n",
      "Epoch 28, CIFAR-10 Batch 1:  Loss:     0.9945 Validation Accuracy: 0.548600\n",
      "Epoch 29, CIFAR-10 Batch 1:  Loss:     1.0101 Validation Accuracy: 0.553400\n",
      "Epoch 30, CIFAR-10 Batch 1:  Loss:     0.9838 Validation Accuracy: 0.548400\n",
      "Epoch 31, CIFAR-10 Batch 1:  Loss:     0.9419 Validation Accuracy: 0.561600\n",
      "Epoch 32, CIFAR-10 Batch 1:  Loss:     0.9116 Validation Accuracy: 0.567600\n",
      "Epoch 33, CIFAR-10 Batch 1:  Loss:     0.8747 Validation Accuracy: 0.561600\n",
      "Epoch 34, CIFAR-10 Batch 1:  Loss:     0.8757 Validation Accuracy: 0.566600\n",
      "Epoch 35, CIFAR-10 Batch 1:  Loss:     0.7960 Validation Accuracy: 0.578400\n",
      "Epoch 36, CIFAR-10 Batch 1:  Loss:     0.8122 Validation Accuracy: 0.562800\n",
      "Epoch 37, CIFAR-10 Batch 1:  Loss:     0.7431 Validation Accuracy: 0.578200\n",
      "Epoch 38, CIFAR-10 Batch 1:  Loss:     0.7323 Validation Accuracy: 0.591000\n",
      "Epoch 39, CIFAR-10 Batch 1:  Loss:     0.6705 Validation Accuracy: 0.588000\n",
      "Epoch 40, CIFAR-10 Batch 1:  Loss:     0.7212 Validation Accuracy: 0.583200\n",
      "Epoch 41, CIFAR-10 Batch 1:  Loss:     0.6664 Validation Accuracy: 0.576000\n",
      "Epoch 42, CIFAR-10 Batch 1:  Loss:     0.6345 Validation Accuracy: 0.597600\n",
      "Epoch 43, CIFAR-10 Batch 1:  Loss:     0.6384 Validation Accuracy: 0.593000\n",
      "Epoch 44, CIFAR-10 Batch 1:  Loss:     0.6056 Validation Accuracy: 0.600200\n",
      "Epoch 45, CIFAR-10 Batch 1:  Loss:     0.6142 Validation Accuracy: 0.594600\n",
      "Epoch 46, CIFAR-10 Batch 1:  Loss:     0.5832 Validation Accuracy: 0.605200\n",
      "Epoch 47, CIFAR-10 Batch 1:  Loss:     0.5440 Validation Accuracy: 0.599000\n",
      "Epoch 48, CIFAR-10 Batch 1:  Loss:     0.5115 Validation Accuracy: 0.591000\n",
      "Epoch 49, CIFAR-10 Batch 1:  Loss:     0.5340 Validation Accuracy: 0.603000\n",
      "Epoch 50, CIFAR-10 Batch 1:  Loss:     0.4918 Validation Accuracy: 0.600000\n"
     ]
    }
   ],
   "source": [
    "\"\"\"\n",
    "DON'T MODIFY ANYTHING IN THIS CELL\n",
    "\"\"\"\n",
    "print('Checking the Training on a Single Batch...')\n",
    "with tf.Session() as sess:\n",
    "    # Initializing the variables\n",
    "    sess.run(tf.global_variables_initializer())\n",
    "    \n",
    "    # Training cycle\n",
    "    for epoch in range(epochs):\n",
    "        batch_i = 1\n",
    "        for batch_features, batch_labels in helper.load_preprocess_training_batch(batch_i, batch_size):\n",
    "            train_neural_network(sess, optimizer, keep_probability, batch_features, batch_labels)\n",
    "        print('Epoch {:>2}, CIFAR-10 Batch {}:  '.format(epoch + 1, batch_i), end='')\n",
    "        print_stats(sess, batch_features, batch_labels, cost, accuracy)"
   ]
  },
  {
   "cell_type": "markdown",
   "metadata": {
    "deletable": true,
    "editable": true
   },
   "source": [
    "### Fully Train the Model\n",
    "Now that you got a good accuracy with a single CIFAR-10 batch, try it with all five batches."
   ]
  },
  {
   "cell_type": "code",
   "execution_count": 17,
   "metadata": {
    "collapsed": false,
    "deletable": true,
    "editable": true,
    "scrolled": true
   },
   "outputs": [
    {
     "name": "stdout",
     "output_type": "stream",
     "text": [
      "Training...\n",
      "Epoch  1, CIFAR-10 Batch 1:  Loss:     2.3104 Validation Accuracy: 0.096600\n",
      "Epoch  1, CIFAR-10 Batch 2:  Loss:     2.3026 Validation Accuracy: 0.097000\n",
      "Epoch  1, CIFAR-10 Batch 3:  Loss:     2.3082 Validation Accuracy: 0.096000\n",
      "Epoch  1, CIFAR-10 Batch 4:  Loss:     2.2799 Validation Accuracy: 0.130600\n",
      "Epoch  1, CIFAR-10 Batch 5:  Loss:     2.1494 Validation Accuracy: 0.213000\n",
      "Epoch  2, CIFAR-10 Batch 1:  Loss:     2.1693 Validation Accuracy: 0.219800\n",
      "Epoch  2, CIFAR-10 Batch 2:  Loss:     2.0995 Validation Accuracy: 0.236600\n",
      "Epoch  2, CIFAR-10 Batch 3:  Loss:     1.9453 Validation Accuracy: 0.272600\n",
      "Epoch  2, CIFAR-10 Batch 4:  Loss:     1.8612 Validation Accuracy: 0.319600\n",
      "Epoch  2, CIFAR-10 Batch 5:  Loss:     1.7979 Validation Accuracy: 0.344600\n",
      "Epoch  3, CIFAR-10 Batch 1:  Loss:     1.9241 Validation Accuracy: 0.364400\n",
      "Epoch  3, CIFAR-10 Batch 2:  Loss:     1.8877 Validation Accuracy: 0.380000\n",
      "Epoch  3, CIFAR-10 Batch 3:  Loss:     1.6066 Validation Accuracy: 0.401200\n",
      "Epoch  3, CIFAR-10 Batch 4:  Loss:     1.6832 Validation Accuracy: 0.427400\n",
      "Epoch  3, CIFAR-10 Batch 5:  Loss:     1.5828 Validation Accuracy: 0.443600\n",
      "Epoch  4, CIFAR-10 Batch 1:  Loss:     1.6546 Validation Accuracy: 0.451800\n",
      "Epoch  4, CIFAR-10 Batch 2:  Loss:     1.5790 Validation Accuracy: 0.460600\n",
      "Epoch  4, CIFAR-10 Batch 3:  Loss:     1.4019 Validation Accuracy: 0.462400\n",
      "Epoch  4, CIFAR-10 Batch 4:  Loss:     1.5188 Validation Accuracy: 0.473200\n",
      "Epoch  4, CIFAR-10 Batch 5:  Loss:     1.5061 Validation Accuracy: 0.484400\n",
      "Epoch  5, CIFAR-10 Batch 1:  Loss:     1.5716 Validation Accuracy: 0.479400\n",
      "Epoch  5, CIFAR-10 Batch 2:  Loss:     1.4757 Validation Accuracy: 0.505800\n",
      "Epoch  5, CIFAR-10 Batch 3:  Loss:     1.2796 Validation Accuracy: 0.482800\n",
      "Epoch  5, CIFAR-10 Batch 4:  Loss:     1.4279 Validation Accuracy: 0.497000\n",
      "Epoch  5, CIFAR-10 Batch 5:  Loss:     1.3869 Validation Accuracy: 0.524600\n",
      "Epoch  6, CIFAR-10 Batch 1:  Loss:     1.4531 Validation Accuracy: 0.510400\n",
      "Epoch  6, CIFAR-10 Batch 2:  Loss:     1.3619 Validation Accuracy: 0.530800\n",
      "Epoch  6, CIFAR-10 Batch 3:  Loss:     1.1565 Validation Accuracy: 0.529000\n",
      "Epoch  6, CIFAR-10 Batch 4:  Loss:     1.3250 Validation Accuracy: 0.533000\n",
      "Epoch  6, CIFAR-10 Batch 5:  Loss:     1.3625 Validation Accuracy: 0.527400\n",
      "Epoch  7, CIFAR-10 Batch 1:  Loss:     1.3804 Validation Accuracy: 0.542200\n",
      "Epoch  7, CIFAR-10 Batch 2:  Loss:     1.2799 Validation Accuracy: 0.548800\n",
      "Epoch  7, CIFAR-10 Batch 3:  Loss:     1.1311 Validation Accuracy: 0.550400\n",
      "Epoch  7, CIFAR-10 Batch 4:  Loss:     1.2697 Validation Accuracy: 0.551400\n",
      "Epoch  7, CIFAR-10 Batch 5:  Loss:     1.2574 Validation Accuracy: 0.557600\n",
      "Epoch  8, CIFAR-10 Batch 1:  Loss:     1.3014 Validation Accuracy: 0.549400\n",
      "Epoch  8, CIFAR-10 Batch 2:  Loss:     1.2349 Validation Accuracy: 0.566000\n",
      "Epoch  8, CIFAR-10 Batch 3:  Loss:     1.0286 Validation Accuracy: 0.559200\n",
      "Epoch  8, CIFAR-10 Batch 4:  Loss:     1.1273 Validation Accuracy: 0.582000\n",
      "Epoch  8, CIFAR-10 Batch 5:  Loss:     1.2355 Validation Accuracy: 0.577400\n",
      "Epoch  9, CIFAR-10 Batch 1:  Loss:     1.2082 Validation Accuracy: 0.583000\n",
      "Epoch  9, CIFAR-10 Batch 2:  Loss:     1.1516 Validation Accuracy: 0.583200\n",
      "Epoch  9, CIFAR-10 Batch 3:  Loss:     0.9867 Validation Accuracy: 0.582000\n",
      "Epoch  9, CIFAR-10 Batch 4:  Loss:     1.0911 Validation Accuracy: 0.592200\n",
      "Epoch  9, CIFAR-10 Batch 5:  Loss:     1.1899 Validation Accuracy: 0.589400\n",
      "Epoch 10, CIFAR-10 Batch 1:  Loss:     1.2189 Validation Accuracy: 0.582800\n",
      "Epoch 10, CIFAR-10 Batch 2:  Loss:     1.2861 Validation Accuracy: 0.583600\n",
      "Epoch 10, CIFAR-10 Batch 3:  Loss:     0.9195 Validation Accuracy: 0.592600\n",
      "Epoch 10, CIFAR-10 Batch 4:  Loss:     0.9545 Validation Accuracy: 0.606800\n",
      "Epoch 10, CIFAR-10 Batch 5:  Loss:     1.1324 Validation Accuracy: 0.588400\n",
      "Epoch 11, CIFAR-10 Batch 1:  Loss:     1.0713 Validation Accuracy: 0.614000\n",
      "Epoch 11, CIFAR-10 Batch 2:  Loss:     1.1523 Validation Accuracy: 0.613800\n",
      "Epoch 11, CIFAR-10 Batch 3:  Loss:     0.8985 Validation Accuracy: 0.611200\n",
      "Epoch 11, CIFAR-10 Batch 4:  Loss:     0.9512 Validation Accuracy: 0.609800\n",
      "Epoch 11, CIFAR-10 Batch 5:  Loss:     1.0161 Validation Accuracy: 0.613600\n",
      "Epoch 12, CIFAR-10 Batch 1:  Loss:     1.0476 Validation Accuracy: 0.620600\n",
      "Epoch 12, CIFAR-10 Batch 2:  Loss:     1.0815 Validation Accuracy: 0.622600\n",
      "Epoch 12, CIFAR-10 Batch 3:  Loss:     0.8629 Validation Accuracy: 0.614800\n",
      "Epoch 12, CIFAR-10 Batch 4:  Loss:     0.9319 Validation Accuracy: 0.616800\n",
      "Epoch 12, CIFAR-10 Batch 5:  Loss:     1.0481 Validation Accuracy: 0.625200\n",
      "Epoch 13, CIFAR-10 Batch 1:  Loss:     1.0250 Validation Accuracy: 0.606400\n",
      "Epoch 13, CIFAR-10 Batch 2:  Loss:     1.0134 Validation Accuracy: 0.634800\n",
      "Epoch 13, CIFAR-10 Batch 3:  Loss:     0.8057 Validation Accuracy: 0.637600\n",
      "Epoch 13, CIFAR-10 Batch 4:  Loss:     0.8816 Validation Accuracy: 0.629200\n",
      "Epoch 13, CIFAR-10 Batch 5:  Loss:     0.9992 Validation Accuracy: 0.637400\n",
      "Epoch 14, CIFAR-10 Batch 1:  Loss:     0.9139 Validation Accuracy: 0.641600\n",
      "Epoch 14, CIFAR-10 Batch 2:  Loss:     0.9365 Validation Accuracy: 0.640800\n",
      "Epoch 14, CIFAR-10 Batch 3:  Loss:     0.7495 Validation Accuracy: 0.637800\n",
      "Epoch 14, CIFAR-10 Batch 4:  Loss:     0.8487 Validation Accuracy: 0.633000\n",
      "Epoch 14, CIFAR-10 Batch 5:  Loss:     0.9280 Validation Accuracy: 0.640000\n",
      "Epoch 15, CIFAR-10 Batch 1:  Loss:     0.8704 Validation Accuracy: 0.647200\n",
      "Epoch 15, CIFAR-10 Batch 2:  Loss:     0.9768 Validation Accuracy: 0.646600\n",
      "Epoch 15, CIFAR-10 Batch 3:  Loss:     0.7173 Validation Accuracy: 0.648800\n",
      "Epoch 15, CIFAR-10 Batch 4:  Loss:     0.7859 Validation Accuracy: 0.648800\n",
      "Epoch 15, CIFAR-10 Batch 5:  Loss:     0.8785 Validation Accuracy: 0.647600\n",
      "Epoch 16, CIFAR-10 Batch 1:  Loss:     0.9044 Validation Accuracy: 0.657000\n",
      "Epoch 16, CIFAR-10 Batch 2:  Loss:     1.0023 Validation Accuracy: 0.649600\n",
      "Epoch 16, CIFAR-10 Batch 3:  Loss:     0.7114 Validation Accuracy: 0.651600\n",
      "Epoch 16, CIFAR-10 Batch 4:  Loss:     0.7682 Validation Accuracy: 0.665400\n",
      "Epoch 16, CIFAR-10 Batch 5:  Loss:     0.8482 Validation Accuracy: 0.653000\n",
      "Epoch 17, CIFAR-10 Batch 1:  Loss:     0.8124 Validation Accuracy: 0.665400\n",
      "Epoch 17, CIFAR-10 Batch 2:  Loss:     0.9272 Validation Accuracy: 0.661400\n",
      "Epoch 17, CIFAR-10 Batch 3:  Loss:     0.6002 Validation Accuracy: 0.664800\n",
      "Epoch 17, CIFAR-10 Batch 4:  Loss:     0.6801 Validation Accuracy: 0.669400\n",
      "Epoch 17, CIFAR-10 Batch 5:  Loss:     0.7984 Validation Accuracy: 0.658400\n",
      "Epoch 18, CIFAR-10 Batch 1:  Loss:     0.8030 Validation Accuracy: 0.676200\n",
      "Epoch 18, CIFAR-10 Batch 2:  Loss:     0.8827 Validation Accuracy: 0.674400\n",
      "Epoch 18, CIFAR-10 Batch 3:  Loss:     0.6223 Validation Accuracy: 0.670400\n",
      "Epoch 18, CIFAR-10 Batch 4:  Loss:     0.6863 Validation Accuracy: 0.679800\n",
      "Epoch 18, CIFAR-10 Batch 5:  Loss:     0.8431 Validation Accuracy: 0.656000\n",
      "Epoch 19, CIFAR-10 Batch 1:  Loss:     0.8275 Validation Accuracy: 0.675600\n",
      "Epoch 19, CIFAR-10 Batch 2:  Loss:     0.7824 Validation Accuracy: 0.674800\n",
      "Epoch 19, CIFAR-10 Batch 3:  Loss:     0.5700 Validation Accuracy: 0.675200\n",
      "Epoch 19, CIFAR-10 Batch 4:  Loss:     0.6382 Validation Accuracy: 0.673800\n",
      "Epoch 19, CIFAR-10 Batch 5:  Loss:     0.7632 Validation Accuracy: 0.670800\n",
      "Epoch 20, CIFAR-10 Batch 1:  Loss:     0.8437 Validation Accuracy: 0.682000\n",
      "Epoch 20, CIFAR-10 Batch 2:  Loss:     0.7708 Validation Accuracy: 0.685400\n",
      "Epoch 20, CIFAR-10 Batch 3:  Loss:     0.5463 Validation Accuracy: 0.690400\n",
      "Epoch 20, CIFAR-10 Batch 4:  Loss:     0.6036 Validation Accuracy: 0.693000\n",
      "Epoch 20, CIFAR-10 Batch 5:  Loss:     0.7776 Validation Accuracy: 0.664400\n",
      "Epoch 21, CIFAR-10 Batch 1:  Loss:     0.7198 Validation Accuracy: 0.676400\n",
      "Epoch 21, CIFAR-10 Batch 2:  Loss:     0.7873 Validation Accuracy: 0.692200\n",
      "Epoch 21, CIFAR-10 Batch 3:  Loss:     0.5290 Validation Accuracy: 0.682800\n",
      "Epoch 21, CIFAR-10 Batch 4:  Loss:     0.6228 Validation Accuracy: 0.679400\n",
      "Epoch 21, CIFAR-10 Batch 5:  Loss:     0.7292 Validation Accuracy: 0.672000\n",
      "Epoch 22, CIFAR-10 Batch 1:  Loss:     0.6683 Validation Accuracy: 0.686800\n",
      "Epoch 22, CIFAR-10 Batch 2:  Loss:     0.7252 Validation Accuracy: 0.691800\n",
      "Epoch 22, CIFAR-10 Batch 3:  Loss:     0.5130 Validation Accuracy: 0.680000\n",
      "Epoch 22, CIFAR-10 Batch 4:  Loss:     0.5890 Validation Accuracy: 0.684000\n",
      "Epoch 22, CIFAR-10 Batch 5:  Loss:     0.6717 Validation Accuracy: 0.683400\n",
      "Epoch 23, CIFAR-10 Batch 1:  Loss:     0.6627 Validation Accuracy: 0.695400\n",
      "Epoch 23, CIFAR-10 Batch 2:  Loss:     0.7215 Validation Accuracy: 0.691600\n",
      "Epoch 23, CIFAR-10 Batch 3:  Loss:     0.4616 Validation Accuracy: 0.688400\n",
      "Epoch 23, CIFAR-10 Batch 4:  Loss:     0.5923 Validation Accuracy: 0.692800\n",
      "Epoch 23, CIFAR-10 Batch 5:  Loss:     0.6746 Validation Accuracy: 0.676600\n",
      "Epoch 24, CIFAR-10 Batch 1:  Loss:     0.6314 Validation Accuracy: 0.694800\n",
      "Epoch 24, CIFAR-10 Batch 2:  Loss:     0.6571 Validation Accuracy: 0.695800\n",
      "Epoch 24, CIFAR-10 Batch 3:  Loss:     0.5336 Validation Accuracy: 0.673200\n",
      "Epoch 24, CIFAR-10 Batch 4:  Loss:     0.5170 Validation Accuracy: 0.699800\n",
      "Epoch 24, CIFAR-10 Batch 5:  Loss:     0.6268 Validation Accuracy: 0.680000\n",
      "Epoch 25, CIFAR-10 Batch 1:  Loss:     0.5937 Validation Accuracy: 0.698000\n",
      "Epoch 25, CIFAR-10 Batch 2:  Loss:     0.6674 Validation Accuracy: 0.691600\n",
      "Epoch 25, CIFAR-10 Batch 3:  Loss:     0.4484 Validation Accuracy: 0.696800\n",
      "Epoch 25, CIFAR-10 Batch 4:  Loss:     0.5307 Validation Accuracy: 0.688600\n",
      "Epoch 25, CIFAR-10 Batch 5:  Loss:     0.5891 Validation Accuracy: 0.691800\n",
      "Epoch 26, CIFAR-10 Batch 1:  Loss:     0.6333 Validation Accuracy: 0.697800\n",
      "Epoch 26, CIFAR-10 Batch 2:  Loss:     0.6091 Validation Accuracy: 0.699600\n",
      "Epoch 26, CIFAR-10 Batch 3:  Loss:     0.4548 Validation Accuracy: 0.690000\n",
      "Epoch 26, CIFAR-10 Batch 4:  Loss:     0.4635 Validation Accuracy: 0.702000\n",
      "Epoch 26, CIFAR-10 Batch 5:  Loss:     0.5614 Validation Accuracy: 0.697000\n",
      "Epoch 27, CIFAR-10 Batch 1:  Loss:     0.5984 Validation Accuracy: 0.708600\n",
      "Epoch 27, CIFAR-10 Batch 2:  Loss:     0.6048 Validation Accuracy: 0.707000\n",
      "Epoch 27, CIFAR-10 Batch 3:  Loss:     0.4334 Validation Accuracy: 0.697400\n",
      "Epoch 27, CIFAR-10 Batch 4:  Loss:     0.4635 Validation Accuracy: 0.703000\n",
      "Epoch 27, CIFAR-10 Batch 5:  Loss:     0.5591 Validation Accuracy: 0.701800\n",
      "Epoch 28, CIFAR-10 Batch 1:  Loss:     0.6044 Validation Accuracy: 0.709600\n",
      "Epoch 28, CIFAR-10 Batch 2:  Loss:     0.5862 Validation Accuracy: 0.707600\n",
      "Epoch 28, CIFAR-10 Batch 3:  Loss:     0.4297 Validation Accuracy: 0.706400\n",
      "Epoch 28, CIFAR-10 Batch 4:  Loss:     0.4431 Validation Accuracy: 0.715600\n",
      "Epoch 28, CIFAR-10 Batch 5:  Loss:     0.5708 Validation Accuracy: 0.696600\n",
      "Epoch 29, CIFAR-10 Batch 1:  Loss:     0.5527 Validation Accuracy: 0.710400\n",
      "Epoch 29, CIFAR-10 Batch 2:  Loss:     0.5883 Validation Accuracy: 0.710400\n",
      "Epoch 29, CIFAR-10 Batch 3:  Loss:     0.4005 Validation Accuracy: 0.708000\n",
      "Epoch 29, CIFAR-10 Batch 4:  Loss:     0.4446 Validation Accuracy: 0.699200\n",
      "Epoch 29, CIFAR-10 Batch 5:  Loss:     0.5123 Validation Accuracy: 0.700400\n",
      "Epoch 30, CIFAR-10 Batch 1:  Loss:     0.5336 Validation Accuracy: 0.714600\n",
      "Epoch 30, CIFAR-10 Batch 2:  Loss:     0.6167 Validation Accuracy: 0.700400\n",
      "Epoch 30, CIFAR-10 Batch 3:  Loss:     0.3846 Validation Accuracy: 0.711200\n",
      "Epoch 30, CIFAR-10 Batch 4:  Loss:     0.3974 Validation Accuracy: 0.712200\n",
      "Epoch 30, CIFAR-10 Batch 5:  Loss:     0.4858 Validation Accuracy: 0.710600\n",
      "Epoch 31, CIFAR-10 Batch 1:  Loss:     0.5243 Validation Accuracy: 0.718200\n",
      "Epoch 31, CIFAR-10 Batch 2:  Loss:     0.5374 Validation Accuracy: 0.717200\n",
      "Epoch 31, CIFAR-10 Batch 3:  Loss:     0.3655 Validation Accuracy: 0.711600\n",
      "Epoch 31, CIFAR-10 Batch 4:  Loss:     0.3811 Validation Accuracy: 0.700600\n",
      "Epoch 31, CIFAR-10 Batch 5:  Loss:     0.5367 Validation Accuracy: 0.706000\n",
      "Epoch 32, CIFAR-10 Batch 1:  Loss:     0.4883 Validation Accuracy: 0.720800\n",
      "Epoch 32, CIFAR-10 Batch 2:  Loss:     0.5863 Validation Accuracy: 0.711600\n",
      "Epoch 32, CIFAR-10 Batch 3:  Loss:     0.4209 Validation Accuracy: 0.714800\n",
      "Epoch 32, CIFAR-10 Batch 4:  Loss:     0.4229 Validation Accuracy: 0.711800\n",
      "Epoch 32, CIFAR-10 Batch 5:  Loss:     0.4997 Validation Accuracy: 0.710200\n",
      "Epoch 33, CIFAR-10 Batch 1:  Loss:     0.4696 Validation Accuracy: 0.715800\n",
      "Epoch 33, CIFAR-10 Batch 2:  Loss:     0.5312 Validation Accuracy: 0.720600\n",
      "Epoch 33, CIFAR-10 Batch 3:  Loss:     0.3510 Validation Accuracy: 0.716400\n",
      "Epoch 33, CIFAR-10 Batch 4:  Loss:     0.4345 Validation Accuracy: 0.714000\n",
      "Epoch 33, CIFAR-10 Batch 5:  Loss:     0.4926 Validation Accuracy: 0.694800\n",
      "Epoch 34, CIFAR-10 Batch 1:  Loss:     0.4316 Validation Accuracy: 0.723800\n",
      "Epoch 34, CIFAR-10 Batch 2:  Loss:     0.5099 Validation Accuracy: 0.710600\n",
      "Epoch 34, CIFAR-10 Batch 3:  Loss:     0.3383 Validation Accuracy: 0.713600\n",
      "Epoch 34, CIFAR-10 Batch 4:  Loss:     0.4211 Validation Accuracy: 0.712400\n",
      "Epoch 34, CIFAR-10 Batch 5:  Loss:     0.4535 Validation Accuracy: 0.716200\n",
      "Epoch 35, CIFAR-10 Batch 1:  Loss:     0.4566 Validation Accuracy: 0.719400\n",
      "Epoch 35, CIFAR-10 Batch 2:  Loss:     0.5172 Validation Accuracy: 0.709400\n",
      "Epoch 35, CIFAR-10 Batch 3:  Loss:     0.3128 Validation Accuracy: 0.722400\n",
      "Epoch 35, CIFAR-10 Batch 4:  Loss:     0.3713 Validation Accuracy: 0.726200\n",
      "Epoch 35, CIFAR-10 Batch 5:  Loss:     0.4674 Validation Accuracy: 0.717000\n",
      "Epoch 36, CIFAR-10 Batch 1:  Loss:     0.4399 Validation Accuracy: 0.726000\n",
      "Epoch 36, CIFAR-10 Batch 2:  Loss:     0.4588 Validation Accuracy: 0.717400\n",
      "Epoch 36, CIFAR-10 Batch 3:  Loss:     0.3784 Validation Accuracy: 0.708800\n",
      "Epoch 36, CIFAR-10 Batch 4:  Loss:     0.3480 Validation Accuracy: 0.723400\n",
      "Epoch 36, CIFAR-10 Batch 5:  Loss:     0.4293 Validation Accuracy: 0.716400\n",
      "Epoch 37, CIFAR-10 Batch 1:  Loss:     0.4198 Validation Accuracy: 0.722800\n",
      "Epoch 37, CIFAR-10 Batch 2:  Loss:     0.4354 Validation Accuracy: 0.723600\n",
      "Epoch 37, CIFAR-10 Batch 3:  Loss:     0.3258 Validation Accuracy: 0.714400\n",
      "Epoch 37, CIFAR-10 Batch 4:  Loss:     0.3928 Validation Accuracy: 0.721400\n",
      "Epoch 37, CIFAR-10 Batch 5:  Loss:     0.4138 Validation Accuracy: 0.723200\n",
      "Epoch 38, CIFAR-10 Batch 1:  Loss:     0.4140 Validation Accuracy: 0.724200\n",
      "Epoch 38, CIFAR-10 Batch 2:  Loss:     0.4327 Validation Accuracy: 0.720800\n",
      "Epoch 38, CIFAR-10 Batch 3:  Loss:     0.3202 Validation Accuracy: 0.724800\n",
      "Epoch 38, CIFAR-10 Batch 4:  Loss:     0.3285 Validation Accuracy: 0.719400\n",
      "Epoch 38, CIFAR-10 Batch 5:  Loss:     0.3901 Validation Accuracy: 0.721200\n",
      "Epoch 39, CIFAR-10 Batch 1:  Loss:     0.4066 Validation Accuracy: 0.722800\n",
      "Epoch 39, CIFAR-10 Batch 2:  Loss:     0.4389 Validation Accuracy: 0.719600\n",
      "Epoch 39, CIFAR-10 Batch 3:  Loss:     0.3100 Validation Accuracy: 0.728800\n",
      "Epoch 39, CIFAR-10 Batch 4:  Loss:     0.3408 Validation Accuracy: 0.717400\n",
      "Epoch 39, CIFAR-10 Batch 5:  Loss:     0.3732 Validation Accuracy: 0.715200\n",
      "Epoch 40, CIFAR-10 Batch 1:  Loss:     0.4026 Validation Accuracy: 0.731600\n",
      "Epoch 40, CIFAR-10 Batch 2:  Loss:     0.3920 Validation Accuracy: 0.723000\n",
      "Epoch 40, CIFAR-10 Batch 3:  Loss:     0.3376 Validation Accuracy: 0.714600\n",
      "Epoch 40, CIFAR-10 Batch 4:  Loss:     0.3566 Validation Accuracy: 0.711800\n",
      "Epoch 40, CIFAR-10 Batch 5:  Loss:     0.3716 Validation Accuracy: 0.727000\n",
      "Epoch 41, CIFAR-10 Batch 1:  Loss:     0.3486 Validation Accuracy: 0.727000\n",
      "Epoch 41, CIFAR-10 Batch 2:  Loss:     0.4356 Validation Accuracy: 0.718200\n",
      "Epoch 41, CIFAR-10 Batch 3:  Loss:     0.3079 Validation Accuracy: 0.719000\n",
      "Epoch 41, CIFAR-10 Batch 4:  Loss:     0.3371 Validation Accuracy: 0.721200\n",
      "Epoch 41, CIFAR-10 Batch 5:  Loss:     0.4041 Validation Accuracy: 0.719200\n",
      "Epoch 42, CIFAR-10 Batch 1:  Loss:     0.3798 Validation Accuracy: 0.721600\n",
      "Epoch 42, CIFAR-10 Batch 2:  Loss:     0.4106 Validation Accuracy: 0.730800\n",
      "Epoch 42, CIFAR-10 Batch 3:  Loss:     0.2365 Validation Accuracy: 0.727000\n",
      "Epoch 42, CIFAR-10 Batch 4:  Loss:     0.3274 Validation Accuracy: 0.711600\n",
      "Epoch 42, CIFAR-10 Batch 5:  Loss:     0.3823 Validation Accuracy: 0.722600\n",
      "Epoch 43, CIFAR-10 Batch 1:  Loss:     0.3860 Validation Accuracy: 0.725200\n",
      "Epoch 43, CIFAR-10 Batch 2:  Loss:     0.4062 Validation Accuracy: 0.719400\n",
      "Epoch 43, CIFAR-10 Batch 3:  Loss:     0.2659 Validation Accuracy: 0.727800\n",
      "Epoch 43, CIFAR-10 Batch 4:  Loss:     0.3093 Validation Accuracy: 0.724200\n",
      "Epoch 43, CIFAR-10 Batch 5:  Loss:     0.3866 Validation Accuracy: 0.729800\n",
      "Epoch 44, CIFAR-10 Batch 1:  Loss:     0.3437 Validation Accuracy: 0.733000\n",
      "Epoch 44, CIFAR-10 Batch 2:  Loss:     0.4293 Validation Accuracy: 0.734400\n",
      "Epoch 44, CIFAR-10 Batch 3:  Loss:     0.2739 Validation Accuracy: 0.729000\n",
      "Epoch 44, CIFAR-10 Batch 4:  Loss:     0.2928 Validation Accuracy: 0.734600\n",
      "Epoch 44, CIFAR-10 Batch 5:  Loss:     0.3560 Validation Accuracy: 0.724200\n",
      "Epoch 45, CIFAR-10 Batch 1:  Loss:     0.3395 Validation Accuracy: 0.730200\n",
      "Epoch 45, CIFAR-10 Batch 2:  Loss:     0.3724 Validation Accuracy: 0.733000\n",
      "Epoch 45, CIFAR-10 Batch 3:  Loss:     0.2979 Validation Accuracy: 0.725600\n",
      "Epoch 45, CIFAR-10 Batch 4:  Loss:     0.2863 Validation Accuracy: 0.727600\n",
      "Epoch 45, CIFAR-10 Batch 5:  Loss:     0.3456 Validation Accuracy: 0.727400\n",
      "Epoch 46, CIFAR-10 Batch 1:  Loss:     0.3614 Validation Accuracy: 0.738600\n",
      "Epoch 46, CIFAR-10 Batch 2:  Loss:     0.3608 Validation Accuracy: 0.736000\n",
      "Epoch 46, CIFAR-10 Batch 3:  Loss:     0.2706 Validation Accuracy: 0.730400\n",
      "Epoch 46, CIFAR-10 Batch 4:  Loss:     0.2890 Validation Accuracy: 0.739000\n",
      "Epoch 46, CIFAR-10 Batch 5:  Loss:     0.3547 Validation Accuracy: 0.724400\n",
      "Epoch 47, CIFAR-10 Batch 1:  Loss:     0.3733 Validation Accuracy: 0.728400\n",
      "Epoch 47, CIFAR-10 Batch 2:  Loss:     0.3987 Validation Accuracy: 0.736400\n",
      "Epoch 47, CIFAR-10 Batch 3:  Loss:     0.2654 Validation Accuracy: 0.729800\n",
      "Epoch 47, CIFAR-10 Batch 4:  Loss:     0.2762 Validation Accuracy: 0.737400\n",
      "Epoch 47, CIFAR-10 Batch 5:  Loss:     0.3105 Validation Accuracy: 0.726000\n",
      "Epoch 48, CIFAR-10 Batch 1:  Loss:     0.3057 Validation Accuracy: 0.734800\n",
      "Epoch 48, CIFAR-10 Batch 2:  Loss:     0.3552 Validation Accuracy: 0.737400\n",
      "Epoch 48, CIFAR-10 Batch 3:  Loss:     0.2532 Validation Accuracy: 0.729400\n",
      "Epoch 48, CIFAR-10 Batch 4:  Loss:     0.2903 Validation Accuracy: 0.711000\n",
      "Epoch 48, CIFAR-10 Batch 5:  Loss:     0.3040 Validation Accuracy: 0.735800\n",
      "Epoch 49, CIFAR-10 Batch 1:  Loss:     0.3154 Validation Accuracy: 0.739000\n",
      "Epoch 49, CIFAR-10 Batch 2:  Loss:     0.3551 Validation Accuracy: 0.719800\n",
      "Epoch 49, CIFAR-10 Batch 3:  Loss:     0.2695 Validation Accuracy: 0.734200\n",
      "Epoch 49, CIFAR-10 Batch 4:  Loss:     0.2676 Validation Accuracy: 0.727600\n",
      "Epoch 49, CIFAR-10 Batch 5:  Loss:     0.3364 Validation Accuracy: 0.730600\n",
      "Epoch 50, CIFAR-10 Batch 1:  Loss:     0.2834 Validation Accuracy: 0.734200\n",
      "Epoch 50, CIFAR-10 Batch 2:  Loss:     0.3145 Validation Accuracy: 0.736800\n",
      "Epoch 50, CIFAR-10 Batch 3:  Loss:     0.2934 Validation Accuracy: 0.731200\n",
      "Epoch 50, CIFAR-10 Batch 4:  Loss:     0.2894 Validation Accuracy: 0.720600\n",
      "Epoch 50, CIFAR-10 Batch 5:  Loss:     0.3459 Validation Accuracy: 0.728600\n"
     ]
    }
   ],
   "source": [
    "\"\"\"\n",
    "DON'T MODIFY ANYTHING IN THIS CELL\n",
    "\"\"\"\n",
    "save_model_path = './image_classification'\n",
    "\n",
    "print('Training...')\n",
    "with tf.Session() as sess:\n",
    "    # Initializing the variables\n",
    "    sess.run(tf.global_variables_initializer())\n",
    "    \n",
    "    # Training cycle\n",
    "    for epoch in range(epochs):\n",
    "        # Loop over all batches\n",
    "        n_batches = 5\n",
    "        for batch_i in range(1, n_batches + 1):\n",
    "            for batch_features, batch_labels in helper.load_preprocess_training_batch(batch_i, batch_size):\n",
    "                train_neural_network(sess, optimizer, keep_probability, batch_features, batch_labels)\n",
    "            print('Epoch {:>2}, CIFAR-10 Batch {}:  '.format(epoch + 1, batch_i), end='')\n",
    "            print_stats(sess, batch_features, batch_labels, cost, accuracy)\n",
    "            \n",
    "    # Save Model\n",
    "    saver = tf.train.Saver()\n",
    "    save_path = saver.save(sess, save_model_path)"
   ]
  },
  {
   "cell_type": "markdown",
   "metadata": {
    "deletable": true,
    "editable": true
   },
   "source": [
    "# Checkpoint\n",
    "The model has been saved to disk.\n",
    "## Test Model\n",
    "Test your model against the test dataset.  This will be your final accuracy. You should have an accuracy greater than 50%. If you don't, keep tweaking the model architecture and parameters."
   ]
  },
  {
   "cell_type": "code",
   "execution_count": 18,
   "metadata": {
    "collapsed": false,
    "deletable": true,
    "editable": true,
    "scrolled": true
   },
   "outputs": [
    {
     "name": "stdout",
     "output_type": "stream",
     "text": [
      "Testing Accuracy: 0.7256724683544303\n",
      "\n"
     ]
    },
    {
     "data": {
      "image/png": "[encoded data removed]",
      "text/plain": [
       "<matplotlib.figure.Figure at 0x7f1f873d55c0>"
      ]
     },
     "metadata": {
      "image/png": {
       "height": 319,
       "width": 355
      }
     },
     "output_type": "display_data"
    }
   ],
   "source": [
    "\"\"\"\n",
    "DON'T MODIFY ANYTHING IN THIS CELL\n",
    "\"\"\"\n",
    "%matplotlib inline\n",
    "%config InlineBackend.figure_format = 'retina'\n",
    "\n",
    "import tensorflow as tf\n",
    "import pickle\n",
    "import helper\n",
    "import random\n",
    "\n",
    "# Set batch size if not already set\n",
    "try:\n",
    "    if batch_size:\n",
    "        pass\n",
    "except NameError:\n",
    "    batch_size = 64\n",
    "\n",
    "save_model_path = './image_classification'\n",
    "n_samples = 4\n",
    "top_n_predictions = 3\n",
    "\n",
    "def test_model():\n",
    "    \"\"\"\n",
    "    Test the saved model against the test dataset\n",
    "    \"\"\"\n",
    "\n",
    "    test_features, test_labels = pickle.load(open('preprocess_test.p', mode='rb'))\n",
    "    loaded_graph = tf.Graph()\n",
    "\n",
    "    with tf.Session(graph=loaded_graph) as sess:\n",
    "        # Load model\n",
    "        loader = tf.train.import_meta_graph(save_model_path + '.meta')\n",
    "        loader.restore(sess, save_model_path)\n",
    "\n",
    "        # Get Tensors from loaded model\n",
    "        loaded_x = loaded_graph.get_tensor_by_name('x:0')\n",
    "        loaded_y = loaded_graph.get_tensor_by_name('y:0')\n",
    "        loaded_keep_prob = loaded_graph.get_tensor_by_name('keep_prob:0')\n",
    "        loaded_logits = loaded_graph.get_tensor_by_name('logits:0')\n",
    "        loaded_acc = loaded_graph.get_tensor_by_name('accuracy:0')\n",
    "        \n",
    "        # Get accuracy in batches for memory limitations\n",
    "        test_batch_acc_total = 0\n",
    "        test_batch_count = 0\n",
    "        \n",
    "        for test_feature_batch, test_label_batch in helper.batch_features_labels(test_features, test_labels, batch_size):\n",
    "            test_batch_acc_total += sess.run(\n",
    "                loaded_acc,\n",
    "                feed_dict={loaded_x: test_feature_batch, loaded_y: test_label_batch, loaded_keep_prob: 1.0})\n",
    "            test_batch_count += 1\n",
    "\n",
    "        print('Testing Accuracy: {}\\n'.format(test_batch_acc_total/test_batch_count))\n",
    "\n",
    "        # Print Random Samples\n",
    "        random_test_features, random_test_labels = tuple(zip(*random.sample(list(zip(test_features, test_labels)), n_samples)))\n",
    "        random_test_predictions = sess.run(\n",
    "            tf.nn.top_k(tf.nn.softmax(loaded_logits), top_n_predictions),\n",
    "            feed_dict={loaded_x: random_test_features, loaded_y: random_test_labels, loaded_keep_prob: 1.0})\n",
    "        helper.display_image_predictions(random_test_features, random_test_labels, random_test_predictions)\n",
    "\n",
    "\n",
    "test_model()"
   ]
  },
  {
   "cell_type": "markdown",
   "metadata": {
    "deletable": true,
    "editable": true
   },
   "source": [
    "## Why 50-80% Accuracy?\n",
    "You might be wondering why you can't get an accuracy any higher. First things first, 50% isn't bad for a simple CNN.  Pure guessing would get you 10% accuracy. However, you might notice people are getting scores [well above 80%](http://rodrigob.github.io/are_we_there_yet/build/classification_datasets_results.html#43494641522d3130).  That's because we haven't taught you all there is to know about neural networks. We still need to cover a few more techniques.\n",
    "## Submitting This Project\n",
    "When submitting this project, make sure to run all the cells before saving the notebook.  Save the notebook file as \"dlnd_image_classification.ipynb\" and save it as a HTML file under \"File\" -> \"Download as\".  Include the \"helper.py\" and \"problem_unittests.py\" files in your submission."
   ]
  }
 ],
 "metadata": {
  "kernelspec": {
   "display_name": "Python 3",
   "language": "python",
   "name": "python3"
  },
  "language_info": {
   "codemirror_mode": {
    "name": "ipython",
    "version": 3
   },
   "file_extension": ".py",
   "mimetype": "text/x-python",
   "name": "python",
   "nbconvert_exporter": "python",
   "pygments_lexer": "ipython3",
   "version": "3.5.3"
  }
 },
 "nbformat": 4,
 "nbformat_minor": 1
}
